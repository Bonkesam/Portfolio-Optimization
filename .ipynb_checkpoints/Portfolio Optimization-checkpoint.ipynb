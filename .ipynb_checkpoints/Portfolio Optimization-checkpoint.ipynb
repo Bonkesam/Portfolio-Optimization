{
 "cells": [
  {
   "cell_type": "markdown",
   "id": "7f2834dc",
   "metadata": {},
   "source": [
    "<h1> Portfolio Optimization </h1>\n",
    "\n",
    "In this project, I will build two portfolios each containing four stocks. Each portfolio will have $10,000. The first portfolio will have <em>equal weighting</em> while the other portfolio will be optimized with a weighting that returns the maximum returns after adjusting the risks."
   ]
  },
  {
   "cell_type": "markdown",
   "id": "6d220469",
   "metadata": {},
   "source": [
    "## 1. Gathering the data"
   ]
  },
  {
   "cell_type": "code",
   "execution_count": 1,
   "id": "11311bf7",
   "metadata": {},
   "outputs": [],
   "source": [
    "#Import the required packages\n",
    "\n",
    "import pandas as pd\n",
    "import numpy as np\n",
    "import pandas_datareader.data as pdr\n",
    "import matplotlib.pyplot as plt\n",
    "%matplotlib inline"
   ]
  },
  {
   "cell_type": "code",
   "execution_count": 23,
   "id": "02767b61",
   "metadata": {},
   "outputs": [],
   "source": [
    "#Create Parameters for start and end dates\n",
    "\n",
    "start_date = '2018-01-01'\n",
    "end_date = '2022-09-30'\n",
    "\n",
    "#Create a list of the ticker symbols for our portfolio\n",
    "\n",
    "stock_list = ['AMD', 'AAPL', 'MSFT', 'ORCL']\n",
    "\n",
    "#Now we create an empty dictionary to store the stock portfolio data\n",
    "stocks = {}\n",
    "\n",
    "#Get the adj close data for all the stock list using the for loop\n",
    "for i in stock_list:\n",
    "    stocks[i] = pdr.DataReader(i, 'yahoo', start_date, end_date)[['Adj Close']]"
   ]
  },
  {
   "cell_type": "code",
   "execution_count": 24,
   "id": "27c2466b",
   "metadata": {},
   "outputs": [
    {
     "data": {
      "text/html": [
       "<div>\n",
       "<style scoped>\n",
       "    .dataframe tbody tr th:only-of-type {\n",
       "        vertical-align: middle;\n",
       "    }\n",
       "\n",
       "    .dataframe tbody tr th {\n",
       "        vertical-align: top;\n",
       "    }\n",
       "\n",
       "    .dataframe thead th {\n",
       "        text-align: right;\n",
       "    }\n",
       "</style>\n",
       "<table border=\"1\" class=\"dataframe\">\n",
       "  <thead>\n",
       "    <tr style=\"text-align: right;\">\n",
       "      <th></th>\n",
       "      <th>Adj Close</th>\n",
       "    </tr>\n",
       "    <tr>\n",
       "      <th>Date</th>\n",
       "      <th></th>\n",
       "    </tr>\n",
       "  </thead>\n",
       "  <tbody>\n",
       "    <tr>\n",
       "      <th>2018-01-02</th>\n",
       "      <td>41.018429</td>\n",
       "    </tr>\n",
       "    <tr>\n",
       "      <th>2018-01-03</th>\n",
       "      <td>41.011280</td>\n",
       "    </tr>\n",
       "    <tr>\n",
       "      <th>2018-01-04</th>\n",
       "      <td>41.201771</td>\n",
       "    </tr>\n",
       "    <tr>\n",
       "      <th>2018-01-05</th>\n",
       "      <td>41.670872</td>\n",
       "    </tr>\n",
       "    <tr>\n",
       "      <th>2018-01-08</th>\n",
       "      <td>41.516094</td>\n",
       "    </tr>\n",
       "    <tr>\n",
       "      <th>2018-01-09</th>\n",
       "      <td>41.511341</td>\n",
       "    </tr>\n",
       "    <tr>\n",
       "      <th>2018-01-10</th>\n",
       "      <td>41.501812</td>\n",
       "    </tr>\n",
       "    <tr>\n",
       "      <th>2018-01-11</th>\n",
       "      <td>41.737545</td>\n",
       "    </tr>\n",
       "    <tr>\n",
       "      <th>2018-01-12</th>\n",
       "      <td>42.168541</td>\n",
       "    </tr>\n",
       "    <tr>\n",
       "      <th>2018-01-16</th>\n",
       "      <td>41.954243</td>\n",
       "    </tr>\n",
       "  </tbody>\n",
       "</table>\n",
       "</div>"
      ],
      "text/plain": [
       "            Adj Close\n",
       "Date                 \n",
       "2018-01-02  41.018429\n",
       "2018-01-03  41.011280\n",
       "2018-01-04  41.201771\n",
       "2018-01-05  41.670872\n",
       "2018-01-08  41.516094\n",
       "2018-01-09  41.511341\n",
       "2018-01-10  41.501812\n",
       "2018-01-11  41.737545\n",
       "2018-01-12  42.168541\n",
       "2018-01-16  41.954243"
      ]
     },
     "execution_count": 24,
     "metadata": {},
     "output_type": "execute_result"
    }
   ],
   "source": [
    "stocks['AAPL'].head(10)"
   ]
  },
  {
   "cell_type": "markdown",
   "id": "b7c25699",
   "metadata": {},
   "source": [
    "## 2. Equal-Weighted portfolio"
   ]
  },
  {
   "cell_type": "markdown",
   "id": "a1f76165",
   "metadata": {},
   "source": [
    "We first have to build three other columns.\n",
    "- Normalized return = Adjusted Close/ Adjusted Close on the `start_date` of the portfolio\n",
    "- Allocation = Normalixed return * 0.25 (equal weighting for each of the four stocks)\n",
    "- Position value = Allocation * 10,000 (Value of the portfolio)\n",
    "\n"
   ]
  },
  {
   "cell_type": "code",
   "execution_count": 25,
   "id": "1f6067e5",
   "metadata": {},
   "outputs": [],
   "source": [
    "#Creating the 'Normalized return' for each of the \n",
    "\n",
    "for stock_name, stock_data in stocks.items():\n",
    "    first_adj_close = stock_data.iloc[0]['Adj Close'] #This line sekects the first row from the Adjusted Close column\n",
    "    stock_data['Normalized Return'] = stock_data['Adj Close']/first_adj_close #Here now we divide each row by the value of the first adj close"
   ]
  },
  {
   "cell_type": "code",
   "execution_count": 26,
   "id": "f0014e19",
   "metadata": {},
   "outputs": [
    {
     "data": {
      "text/html": [
       "<div>\n",
       "<style scoped>\n",
       "    .dataframe tbody tr th:only-of-type {\n",
       "        vertical-align: middle;\n",
       "    }\n",
       "\n",
       "    .dataframe tbody tr th {\n",
       "        vertical-align: top;\n",
       "    }\n",
       "\n",
       "    .dataframe thead th {\n",
       "        text-align: right;\n",
       "    }\n",
       "</style>\n",
       "<table border=\"1\" class=\"dataframe\">\n",
       "  <thead>\n",
       "    <tr style=\"text-align: right;\">\n",
       "      <th></th>\n",
       "      <th>Adj Close</th>\n",
       "      <th>Normalized Return</th>\n",
       "    </tr>\n",
       "    <tr>\n",
       "      <th>Date</th>\n",
       "      <th></th>\n",
       "      <th></th>\n",
       "    </tr>\n",
       "  </thead>\n",
       "  <tbody>\n",
       "    <tr>\n",
       "      <th>2018-01-02</th>\n",
       "      <td>10.98</td>\n",
       "      <td>1.000000</td>\n",
       "    </tr>\n",
       "    <tr>\n",
       "      <th>2018-01-03</th>\n",
       "      <td>11.55</td>\n",
       "      <td>1.051913</td>\n",
       "    </tr>\n",
       "    <tr>\n",
       "      <th>2018-01-04</th>\n",
       "      <td>12.12</td>\n",
       "      <td>1.103825</td>\n",
       "    </tr>\n",
       "    <tr>\n",
       "      <th>2018-01-05</th>\n",
       "      <td>11.88</td>\n",
       "      <td>1.081967</td>\n",
       "    </tr>\n",
       "    <tr>\n",
       "      <th>2018-01-08</th>\n",
       "      <td>12.28</td>\n",
       "      <td>1.118397</td>\n",
       "    </tr>\n",
       "  </tbody>\n",
       "</table>\n",
       "</div>"
      ],
      "text/plain": [
       "            Adj Close  Normalized Return\n",
       "Date                                    \n",
       "2018-01-02      10.98           1.000000\n",
       "2018-01-03      11.55           1.051913\n",
       "2018-01-04      12.12           1.103825\n",
       "2018-01-05      11.88           1.081967\n",
       "2018-01-08      12.28           1.118397"
      ]
     },
     "execution_count": 26,
     "metadata": {},
     "output_type": "execute_result"
    }
   ],
   "source": [
    "stocks['AMD'].head(5)"
   ]
  },
  {
   "cell_type": "code",
   "execution_count": 27,
   "id": "21280980",
   "metadata": {},
   "outputs": [],
   "source": [
    "#Create equal weighted allocation for each stock\n",
    "\n",
    "for stock_name, stock_data in stocks.items():\n",
    "    stock_data['Allocation'] = stock_data['Normalized Return']*0.25"
   ]
  },
  {
   "cell_type": "code",
   "execution_count": 28,
   "id": "ceefe74c",
   "metadata": {},
   "outputs": [
    {
     "data": {
      "text/html": [
       "<div>\n",
       "<style scoped>\n",
       "    .dataframe tbody tr th:only-of-type {\n",
       "        vertical-align: middle;\n",
       "    }\n",
       "\n",
       "    .dataframe tbody tr th {\n",
       "        vertical-align: top;\n",
       "    }\n",
       "\n",
       "    .dataframe thead th {\n",
       "        text-align: right;\n",
       "    }\n",
       "</style>\n",
       "<table border=\"1\" class=\"dataframe\">\n",
       "  <thead>\n",
       "    <tr style=\"text-align: right;\">\n",
       "      <th></th>\n",
       "      <th>Adj Close</th>\n",
       "      <th>Normalized Return</th>\n",
       "      <th>Allocation</th>\n",
       "    </tr>\n",
       "    <tr>\n",
       "      <th>Date</th>\n",
       "      <th></th>\n",
       "      <th></th>\n",
       "      <th></th>\n",
       "    </tr>\n",
       "  </thead>\n",
       "  <tbody>\n",
       "    <tr>\n",
       "      <th>2018-01-02</th>\n",
       "      <td>81.168488</td>\n",
       "      <td>1.000000</td>\n",
       "      <td>0.250000</td>\n",
       "    </tr>\n",
       "    <tr>\n",
       "      <th>2018-01-03</th>\n",
       "      <td>81.546242</td>\n",
       "      <td>1.004654</td>\n",
       "      <td>0.251163</td>\n",
       "    </tr>\n",
       "    <tr>\n",
       "      <th>2018-01-04</th>\n",
       "      <td>82.263977</td>\n",
       "      <td>1.013496</td>\n",
       "      <td>0.253374</td>\n",
       "    </tr>\n",
       "    <tr>\n",
       "      <th>2018-01-05</th>\n",
       "      <td>83.283875</td>\n",
       "      <td>1.026062</td>\n",
       "      <td>0.256515</td>\n",
       "    </tr>\n",
       "    <tr>\n",
       "      <th>2018-01-08</th>\n",
       "      <td>83.368874</td>\n",
       "      <td>1.027109</td>\n",
       "      <td>0.256777</td>\n",
       "    </tr>\n",
       "  </tbody>\n",
       "</table>\n",
       "</div>"
      ],
      "text/plain": [
       "            Adj Close  Normalized Return  Allocation\n",
       "Date                                                \n",
       "2018-01-02  81.168488           1.000000    0.250000\n",
       "2018-01-03  81.546242           1.004654    0.251163\n",
       "2018-01-04  82.263977           1.013496    0.253374\n",
       "2018-01-05  83.283875           1.026062    0.256515\n",
       "2018-01-08  83.368874           1.027109    0.256777"
      ]
     },
     "execution_count": 28,
     "metadata": {},
     "output_type": "execute_result"
    }
   ],
   "source": [
    "stocks['MSFT'].head(5)"
   ]
  },
  {
   "cell_type": "code",
   "execution_count": 29,
   "id": "d8406b7c",
   "metadata": {},
   "outputs": [],
   "source": [
    "#Let us set the value of the stocks to 10,000\n",
    "\n",
    "for stock_name, stock_data in stocks.items():\n",
    "    stock_data['Position Value'] = stock_data['Allocation']*10000"
   ]
  },
  {
   "cell_type": "code",
   "execution_count": 30,
   "id": "1518beb0",
   "metadata": {},
   "outputs": [
    {
     "data": {
      "text/html": [
       "<div>\n",
       "<style scoped>\n",
       "    .dataframe tbody tr th:only-of-type {\n",
       "        vertical-align: middle;\n",
       "    }\n",
       "\n",
       "    .dataframe tbody tr th {\n",
       "        vertical-align: top;\n",
       "    }\n",
       "\n",
       "    .dataframe thead th {\n",
       "        text-align: right;\n",
       "    }\n",
       "</style>\n",
       "<table border=\"1\" class=\"dataframe\">\n",
       "  <thead>\n",
       "    <tr style=\"text-align: right;\">\n",
       "      <th></th>\n",
       "      <th>Adj Close</th>\n",
       "      <th>Normalized Return</th>\n",
       "      <th>Allocation</th>\n",
       "      <th>Position Value</th>\n",
       "    </tr>\n",
       "    <tr>\n",
       "      <th>Date</th>\n",
       "      <th></th>\n",
       "      <th></th>\n",
       "      <th></th>\n",
       "      <th></th>\n",
       "    </tr>\n",
       "  </thead>\n",
       "  <tbody>\n",
       "    <tr>\n",
       "      <th>2018-01-02</th>\n",
       "      <td>43.145439</td>\n",
       "      <td>1.000000</td>\n",
       "      <td>0.250000</td>\n",
       "      <td>2500.000000</td>\n",
       "    </tr>\n",
       "    <tr>\n",
       "      <th>2018-01-03</th>\n",
       "      <td>44.144730</td>\n",
       "      <td>1.023161</td>\n",
       "      <td>0.255790</td>\n",
       "      <td>2557.902439</td>\n",
       "    </tr>\n",
       "    <tr>\n",
       "      <th>2018-01-04</th>\n",
       "      <td>44.579617</td>\n",
       "      <td>1.033241</td>\n",
       "      <td>0.258310</td>\n",
       "      <td>2583.101333</td>\n",
       "    </tr>\n",
       "    <tr>\n",
       "      <th>2018-01-05</th>\n",
       "      <td>44.847939</td>\n",
       "      <td>1.039460</td>\n",
       "      <td>0.259865</td>\n",
       "      <td>2598.648862</td>\n",
       "    </tr>\n",
       "    <tr>\n",
       "      <th>2018-01-08</th>\n",
       "      <td>45.319832</td>\n",
       "      <td>1.050397</td>\n",
       "      <td>0.262599</td>\n",
       "      <td>2625.992037</td>\n",
       "    </tr>\n",
       "  </tbody>\n",
       "</table>\n",
       "</div>"
      ],
      "text/plain": [
       "            Adj Close  Normalized Return  Allocation  Position Value\n",
       "Date                                                                \n",
       "2018-01-02  43.145439           1.000000    0.250000     2500.000000\n",
       "2018-01-03  44.144730           1.023161    0.255790     2557.902439\n",
       "2018-01-04  44.579617           1.033241    0.258310     2583.101333\n",
       "2018-01-05  44.847939           1.039460    0.259865     2598.648862\n",
       "2018-01-08  45.319832           1.050397    0.262599     2625.992037"
      ]
     },
     "execution_count": 30,
     "metadata": {},
     "output_type": "execute_result"
    }
   ],
   "source": [
    "stocks['ORCL'].head(5)"
   ]
  },
  {
   "cell_type": "markdown",
   "id": "12a67230",
   "metadata": {},
   "source": [
    "## Visualize portfolio Performance\n",
    "\n",
    "To Visualize the performance of this portfolio, we will create two line charts to show the return of the portfolio and the return of the individual stocks over time. First we build a new dataframe that contains only the `position value` of each stockas well as the total value of the portfolio"
   ]
  },
  {
   "cell_type": "code",
   "execution_count": 31,
   "id": "8287991d",
   "metadata": {},
   "outputs": [],
   "source": [
    "#Let us create Position Value Dictionary\n",
    "\n",
    "position_values = {}\n",
    "\n",
    "for stock_name, stock_data in stocks.items():\n",
    "    position_values[stock_name] = stock_data['Position Value']"
   ]
  },
  {
   "cell_type": "code",
   "execution_count": 32,
   "id": "390f568b",
   "metadata": {},
   "outputs": [
    {
     "data": {
      "text/html": [
       "<div>\n",
       "<style scoped>\n",
       "    .dataframe tbody tr th:only-of-type {\n",
       "        vertical-align: middle;\n",
       "    }\n",
       "\n",
       "    .dataframe tbody tr th {\n",
       "        vertical-align: top;\n",
       "    }\n",
       "\n",
       "    .dataframe thead th {\n",
       "        text-align: right;\n",
       "    }\n",
       "</style>\n",
       "<table border=\"1\" class=\"dataframe\">\n",
       "  <thead>\n",
       "    <tr style=\"text-align: right;\">\n",
       "      <th></th>\n",
       "      <th>AMD</th>\n",
       "      <th>AAPL</th>\n",
       "      <th>MSFT</th>\n",
       "      <th>ORCL</th>\n",
       "    </tr>\n",
       "    <tr>\n",
       "      <th>Date</th>\n",
       "      <th></th>\n",
       "      <th></th>\n",
       "      <th></th>\n",
       "      <th></th>\n",
       "    </tr>\n",
       "  </thead>\n",
       "  <tbody>\n",
       "    <tr>\n",
       "      <th>2018-01-02</th>\n",
       "      <td>2500.000000</td>\n",
       "      <td>2500.000000</td>\n",
       "      <td>2500.000000</td>\n",
       "      <td>2500.000000</td>\n",
       "    </tr>\n",
       "    <tr>\n",
       "      <th>2018-01-03</th>\n",
       "      <td>2629.781574</td>\n",
       "      <td>2499.564297</td>\n",
       "      <td>2511.634879</td>\n",
       "      <td>2557.902439</td>\n",
       "    </tr>\n",
       "    <tr>\n",
       "      <th>2018-01-04</th>\n",
       "      <td>2759.562931</td>\n",
       "      <td>2511.174366</td>\n",
       "      <td>2533.741220</td>\n",
       "      <td>2583.101333</td>\n",
       "    </tr>\n",
       "    <tr>\n",
       "      <th>2018-01-05</th>\n",
       "      <td>2704.918172</td>\n",
       "      <td>2539.765232</td>\n",
       "      <td>2565.154194</td>\n",
       "      <td>2598.648862</td>\n",
       "    </tr>\n",
       "    <tr>\n",
       "      <th>2018-01-08</th>\n",
       "      <td>2795.992770</td>\n",
       "      <td>2530.331818</td>\n",
       "      <td>2567.772177</td>\n",
       "      <td>2625.992037</td>\n",
       "    </tr>\n",
       "  </tbody>\n",
       "</table>\n",
       "</div>"
      ],
      "text/plain": [
       "                    AMD         AAPL         MSFT         ORCL\n",
       "Date                                                          \n",
       "2018-01-02  2500.000000  2500.000000  2500.000000  2500.000000\n",
       "2018-01-03  2629.781574  2499.564297  2511.634879  2557.902439\n",
       "2018-01-04  2759.562931  2511.174366  2533.741220  2583.101333\n",
       "2018-01-05  2704.918172  2539.765232  2565.154194  2598.648862\n",
       "2018-01-08  2795.992770  2530.331818  2567.772177  2625.992037"
      ]
     },
     "execution_count": 32,
     "metadata": {},
     "output_type": "execute_result"
    }
   ],
   "source": [
    "position_values = pd.DataFrame(data = position_values)\n",
    "position_values.head(5)"
   ]
  },
  {
   "cell_type": "code",
   "execution_count": 33,
   "id": "14dadb6d",
   "metadata": {},
   "outputs": [],
   "source": [
    "#Lets add the \"Total\" by summing the position values\n",
    "\n",
    "position_values['Total'] = position_values.sum(axis=1)"
   ]
  },
  {
   "cell_type": "code",
   "execution_count": 34,
   "id": "1d9be306",
   "metadata": {},
   "outputs": [
    {
     "data": {
      "text/html": [
       "<div>\n",
       "<style scoped>\n",
       "    .dataframe tbody tr th:only-of-type {\n",
       "        vertical-align: middle;\n",
       "    }\n",
       "\n",
       "    .dataframe tbody tr th {\n",
       "        vertical-align: top;\n",
       "    }\n",
       "\n",
       "    .dataframe thead th {\n",
       "        text-align: right;\n",
       "    }\n",
       "</style>\n",
       "<table border=\"1\" class=\"dataframe\">\n",
       "  <thead>\n",
       "    <tr style=\"text-align: right;\">\n",
       "      <th></th>\n",
       "      <th>AMD</th>\n",
       "      <th>AAPL</th>\n",
       "      <th>MSFT</th>\n",
       "      <th>ORCL</th>\n",
       "      <th>Total</th>\n",
       "    </tr>\n",
       "    <tr>\n",
       "      <th>Date</th>\n",
       "      <th></th>\n",
       "      <th></th>\n",
       "      <th></th>\n",
       "      <th></th>\n",
       "      <th></th>\n",
       "    </tr>\n",
       "  </thead>\n",
       "  <tbody>\n",
       "    <tr>\n",
       "      <th>2018-01-02</th>\n",
       "      <td>2500.000000</td>\n",
       "      <td>2500.000000</td>\n",
       "      <td>2500.000000</td>\n",
       "      <td>2500.000000</td>\n",
       "      <td>10000.000000</td>\n",
       "    </tr>\n",
       "    <tr>\n",
       "      <th>2018-01-03</th>\n",
       "      <td>2629.781574</td>\n",
       "      <td>2499.564297</td>\n",
       "      <td>2511.634879</td>\n",
       "      <td>2557.902439</td>\n",
       "      <td>10198.883189</td>\n",
       "    </tr>\n",
       "    <tr>\n",
       "      <th>2018-01-04</th>\n",
       "      <td>2759.562931</td>\n",
       "      <td>2511.174366</td>\n",
       "      <td>2533.741220</td>\n",
       "      <td>2583.101333</td>\n",
       "      <td>10387.579849</td>\n",
       "    </tr>\n",
       "    <tr>\n",
       "      <th>2018-01-05</th>\n",
       "      <td>2704.918172</td>\n",
       "      <td>2539.765232</td>\n",
       "      <td>2565.154194</td>\n",
       "      <td>2598.648862</td>\n",
       "      <td>10408.486460</td>\n",
       "    </tr>\n",
       "    <tr>\n",
       "      <th>2018-01-08</th>\n",
       "      <td>2795.992770</td>\n",
       "      <td>2530.331818</td>\n",
       "      <td>2567.772177</td>\n",
       "      <td>2625.992037</td>\n",
       "      <td>10520.088802</td>\n",
       "    </tr>\n",
       "  </tbody>\n",
       "</table>\n",
       "</div>"
      ],
      "text/plain": [
       "                    AMD         AAPL         MSFT         ORCL         Total\n",
       "Date                                                                        \n",
       "2018-01-02  2500.000000  2500.000000  2500.000000  2500.000000  10000.000000\n",
       "2018-01-03  2629.781574  2499.564297  2511.634879  2557.902439  10198.883189\n",
       "2018-01-04  2759.562931  2511.174366  2533.741220  2583.101333  10387.579849\n",
       "2018-01-05  2704.918172  2539.765232  2565.154194  2598.648862  10408.486460\n",
       "2018-01-08  2795.992770  2530.331818  2567.772177  2625.992037  10520.088802"
      ]
     },
     "execution_count": 34,
     "metadata": {},
     "output_type": "execute_result"
    }
   ],
   "source": [
    "position_values.head(5)"
   ]
  },
  {
   "cell_type": "code",
   "execution_count": 35,
   "id": "05f179a2",
   "metadata": {},
   "outputs": [
    {
     "data": {
      "image/png": "[encoded data removed]",
      "text/plain": [
       "<Figure size 864x576 with 1 Axes>"
      ]
     },
     "metadata": {
      "needs_background": "light"
     },
     "output_type": "display_data"
    }
   ],
   "source": [
    "#Let us plot \n",
    "\n",
    "plt.figure(figsize = (12,8))\n",
    "plt.plot(position_values.Total)\n",
    "\n",
    "plt.title('Equal-Weighted portfolio')\n",
    "plt.ylabel('Total value');\n"
   ]
  },
  {
   "cell_type": "code",
   "execution_count": 36,
   "id": "e1481d54",
   "metadata": {},
   "outputs": [
    {
     "data": {
      "image/png": "[encoded data removed]",
      "text/plain": [
       "<Figure size 864x576 with 1 Axes>"
      ]
     },
     "metadata": {
      "needs_background": "light"
     },
     "output_type": "display_data"
    }
   ],
   "source": [
    "plt.figure(figsize=(12,8))\n",
    "plt.plot(position_values.iloc[:,0:4])\n",
    "\n",
    "plt.title('Equal-Weighted Portfolio Performance')\n",
    "plt.ylabel('Total Value');"
   ]
  },
  {
   "cell_type": "markdown",
   "id": "096055b2",
   "metadata": {},
   "source": [
    "## Let's Calculate The performance metrics for our portfolio"
   ]
  },
  {
   "cell_type": "markdown",
   "id": "98cb7107",
   "metadata": {},
   "source": [
    "The performance metrics include\n",
    "- Cumulative return\n",
    "- Mean daily return\n",
    "- Standard deviation Daily return\n",
    "- Sharpe ratio\n",
    "- Annualized Sharpe Ratio"
   ]
  },
  {
   "cell_type": "code",
   "execution_count": 37,
   "id": "cf2f62e7",
   "metadata": {},
   "outputs": [
    {
     "name": "stdout",
     "output_type": "stream",
     "text": [
      "235.61 %\n"
     ]
    }
   ],
   "source": [
    "#We begin by defining the start and end value of out portfolio\n",
    "\n",
    "end_value = position_values['Total'][-1]\n",
    "start_value = position_values['Total'][0]\n",
    "\n",
    "#Now we have to calculate the cumulative portfolio return as Percentage\n",
    "cumulative_return = end_value / start_value -1\n",
    "\n",
    "print(str(round(cumulative_return*100,2)), '%')\n"
   ]
  },
  {
   "cell_type": "code",
   "execution_count": 38,
   "id": "e56be6c6",
   "metadata": {},
   "outputs": [
    {
     "data": {
      "text/html": [
       "<div>\n",
       "<style scoped>\n",
       "    .dataframe tbody tr th:only-of-type {\n",
       "        vertical-align: middle;\n",
       "    }\n",
       "\n",
       "    .dataframe tbody tr th {\n",
       "        vertical-align: top;\n",
       "    }\n",
       "\n",
       "    .dataframe thead th {\n",
       "        text-align: right;\n",
       "    }\n",
       "</style>\n",
       "<table border=\"1\" class=\"dataframe\">\n",
       "  <thead>\n",
       "    <tr style=\"text-align: right;\">\n",
       "      <th></th>\n",
       "      <th>AMD</th>\n",
       "      <th>AAPL</th>\n",
       "      <th>MSFT</th>\n",
       "      <th>ORCL</th>\n",
       "      <th>Total</th>\n",
       "      <th>Daily return</th>\n",
       "    </tr>\n",
       "    <tr>\n",
       "      <th>Date</th>\n",
       "      <th></th>\n",
       "      <th></th>\n",
       "      <th></th>\n",
       "      <th></th>\n",
       "      <th></th>\n",
       "      <th></th>\n",
       "    </tr>\n",
       "  </thead>\n",
       "  <tbody>\n",
       "    <tr>\n",
       "      <th>2018-01-02</th>\n",
       "      <td>2500.000000</td>\n",
       "      <td>2500.000000</td>\n",
       "      <td>2500.000000</td>\n",
       "      <td>2500.000000</td>\n",
       "      <td>10000.000000</td>\n",
       "      <td>NaN</td>\n",
       "    </tr>\n",
       "    <tr>\n",
       "      <th>2018-01-03</th>\n",
       "      <td>2629.781574</td>\n",
       "      <td>2499.564297</td>\n",
       "      <td>2511.634879</td>\n",
       "      <td>2557.902439</td>\n",
       "      <td>10198.883189</td>\n",
       "      <td>0.019888</td>\n",
       "    </tr>\n",
       "    <tr>\n",
       "      <th>2018-01-04</th>\n",
       "      <td>2759.562931</td>\n",
       "      <td>2511.174366</td>\n",
       "      <td>2533.741220</td>\n",
       "      <td>2583.101333</td>\n",
       "      <td>10387.579849</td>\n",
       "      <td>0.018502</td>\n",
       "    </tr>\n",
       "    <tr>\n",
       "      <th>2018-01-05</th>\n",
       "      <td>2704.918172</td>\n",
       "      <td>2539.765232</td>\n",
       "      <td>2565.154194</td>\n",
       "      <td>2598.648862</td>\n",
       "      <td>10408.486460</td>\n",
       "      <td>0.002013</td>\n",
       "    </tr>\n",
       "    <tr>\n",
       "      <th>2018-01-08</th>\n",
       "      <td>2795.992770</td>\n",
       "      <td>2530.331818</td>\n",
       "      <td>2567.772177</td>\n",
       "      <td>2625.992037</td>\n",
       "      <td>10520.088802</td>\n",
       "      <td>0.010722</td>\n",
       "    </tr>\n",
       "  </tbody>\n",
       "</table>\n",
       "</div>"
      ],
      "text/plain": [
       "                    AMD         AAPL         MSFT         ORCL         Total  \\\n",
       "Date                                                                           \n",
       "2018-01-02  2500.000000  2500.000000  2500.000000  2500.000000  10000.000000   \n",
       "2018-01-03  2629.781574  2499.564297  2511.634879  2557.902439  10198.883189   \n",
       "2018-01-04  2759.562931  2511.174366  2533.741220  2583.101333  10387.579849   \n",
       "2018-01-05  2704.918172  2539.765232  2565.154194  2598.648862  10408.486460   \n",
       "2018-01-08  2795.992770  2530.331818  2567.772177  2625.992037  10520.088802   \n",
       "\n",
       "            Daily return  \n",
       "Date                      \n",
       "2018-01-02           NaN  \n",
       "2018-01-03      0.019888  \n",
       "2018-01-04      0.018502  \n",
       "2018-01-05      0.002013  \n",
       "2018-01-08      0.010722  "
      ]
     },
     "execution_count": 38,
     "metadata": {},
     "output_type": "execute_result"
    }
   ],
   "source": [
    "#Let us create a daily returns Column\n",
    "\n",
    "position_values['Daily return'] = position_values['Total'].pct_change()\n",
    "position_values.head(5)"
   ]
  },
  {
   "cell_type": "code",
   "execution_count": 39,
   "id": "bb6aac31",
   "metadata": {},
   "outputs": [
    {
     "name": "stdout",
     "output_type": "stream",
     "text": [
      "The dily return is:  0.0013\n"
     ]
    }
   ],
   "source": [
    "#Leyt us calculate the mean Daily return\n",
    "\n",
    "mean_daily_return = position_values['Daily return'].mean()\n",
    "\n",
    "print('The dily return is: ', str(round(mean_daily_return, 4)))"
   ]
  },
  {
   "cell_type": "code",
   "execution_count": 40,
   "id": "0baf610a",
   "metadata": {},
   "outputs": [
    {
     "name": "stdout",
     "output_type": "stream",
     "text": [
      "The std daily return is:  0.0228\n"
     ]
    }
   ],
   "source": [
    "#Let us get the standard deviation of the daily return\n",
    "\n",
    "std_daily_return = position_values['Daily return'].std()\n",
    "\n",
    "print('The std daily return is: ', str(round(std_daily_return,4)))"
   ]
  },
  {
   "cell_type": "code",
   "execution_count": 41,
   "id": "6ea4d367",
   "metadata": {},
   "outputs": [
    {
     "data": {
      "text/plain": [
       "0.055792376795958845"
      ]
     },
     "execution_count": 41,
     "metadata": {},
     "output_type": "execute_result"
    }
   ],
   "source": [
    "#Let us calculate the Sharpe ratio\n",
    "\n",
    "sharpe_ratio = mean_daily_return / std_daily_return\n",
    "sharpe_ratio"
   ]
  },
  {
   "cell_type": "code",
   "execution_count": 43,
   "id": "8cade868",
   "metadata": {},
   "outputs": [
    {
     "data": {
      "text/plain": [
       "0.8856765243319066"
      ]
     },
     "execution_count": 43,
     "metadata": {},
     "output_type": "execute_result"
    }
   ],
   "source": [
    "#Let us calculate the Annualized sharpe ratio\n",
    "\n",
    "annualized_sharpe_ratio = sharpe_ratio * 252**0.5\n",
    "annualized_sharpe_ratio"
   ]
  },
  {
   "cell_type": "markdown",
   "id": "77822432",
   "metadata": {},
   "source": [
    "# Weighted Portfolio"
   ]
  },
  {
   "cell_type": "markdown",
   "id": "f9e2a908",
   "metadata": {},
   "source": [
    "First, We will have to create two dictionaries:\n",
    "- To contain adjusted close for each"
   ]
  }
 ],
 "metadata": {
  "kernelspec": {
   "display_name": "Python 3 (ipykernel)",
   "language": "python",
   "name": "python3"
  },
  "language_info": {
   "codemirror_mode": {
    "name": "ipython",
    "version": 3
   },
   "file_extension": ".py",
   "mimetype": "text/x-python",
   "name": "python",
   "nbconvert_exporter": "python",
   "pygments_lexer": "ipython3",
   "version": "3.9.12"
  }
 },
 "nbformat": 4,
 "nbformat_minor": 5
}
